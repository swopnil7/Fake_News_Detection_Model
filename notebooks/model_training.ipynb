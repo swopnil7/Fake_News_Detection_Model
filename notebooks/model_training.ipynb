{
 "cells": [
  {
   "cell_type": "markdown",
   "metadata": {},
   "source": [
    "# Model Training and Evaluation\n",
    "\n",
    "In this notebook, we will train a Logistic Regression model for text classification using the dataset of fake and real news articles. We will also evaluate the model's performance on a test dataset."
   ]
  },
  {
   "cell_type": "code",
   "execution_count": null,
   "metadata": {
    "id": "TtnqvYrVfc4F"
   },
   "outputs": [],
   "source": [
    "import pandas as pd\n",
    "import numpy as np\n",
    "from sklearn.model_selection import train_test_split\n",
    "from sklearn.feature_extraction.text import TfidfVectorizer\n",
    "from sklearn.linear_model import LogisticRegression\n",
    "import joblib\n",
    "import os\n",
    "import sys\n",
    "import seaborn as sns\n",
    "import matplotlib.pyplot as plt\n",
    "from sklearn.metrics import accuracy_score, confusion_matrix, classification_report"
   ]
  },
  {
   "cell_type": "markdown",
   "metadata": {
    "id": "clNMcmBQf5F1"
   },
   "source": [
    "## Load Data Function\n",
    "\n",
    "We will define a function to load and preprocess the data.\n"
   ]
  },
  {
   "cell_type": "code",
   "execution_count": 2,
   "metadata": {
    "id": "HcW17ZuCf7tD"
   },
   "outputs": [],
   "source": [
    "def load_data(file_path):\n",
    "    if not os.path.isfile(file_path):\n",
    "        print(f\"Error: File '{file_path}' not found.\")\n",
    "        return None, None\n",
    "\n",
    "    try:\n",
    "        df = pd.read_csv(file_path)\n",
    "    except Exception as e:\n",
    "        print(f\"Error loading file: {e}\")\n",
    "        return None, None\n",
    "\n",
    "    df = df.dropna()\n",
    "\n",
    "    if 'text' not in df.columns or 'label' not in df.columns:\n",
    "        print(\"Error: Required columns 'text' and 'label' not found in the dataset.\")\n",
    "        return None, None\n",
    "\n",
    "    return df['text'], df['label']\n"
   ]
  },
  {
   "cell_type": "markdown",
   "metadata": {
    "id": "14Qo9oKfgJ8S"
   },
   "source": [
    "## Load the Dataset\n",
    "\n",
    "Next, we will load the dataset using the function defined above. Adjust the path according to your setup.\n"
   ]
  },
  {
   "cell_type": "code",
   "execution_count": null,
   "metadata": {
    "colab": {
     "base_uri": "https://localhost:8080/"
    },
    "id": "YlQQHK-SgJuA",
    "outputId": "883c8047-1148-42cd-baee-a81b1622129f"
   },
   "outputs": [
    {
     "name": "stdout",
     "output_type": "stream",
     "text": [
      "Data loaded successfully.\n"
     ]
    }
   ],
   "source": [
    "data_path = '../data/processed/processed_data.csv'\n",
    "X, y = load_data(data_path)\n",
    "\n",
    "if X is not None and y is not None:\n",
    "    print(\"Data loaded successfully.\")\n",
    "else:\n",
    "    print(\"Failed to load data.\")\n"
   ]
  },
  {
   "cell_type": "markdown",
   "metadata": {
    "id": "cBQz1UUYhNQ6"
   },
   "source": [
    "## Train the Model\n",
    "\n",
    "We will train a Logistic Regression model using TF-IDF features.\n"
   ]
  },
  {
   "cell_type": "code",
   "execution_count": null,
   "metadata": {
    "colab": {
     "base_uri": "https://localhost:8080/"
    },
    "id": "EpxqVKBEhP6K",
    "outputId": "a627b2dc-9677-43ed-dc41-35a517c621a4"
   },
   "outputs": [
    {
     "name": "stdout",
     "output_type": "stream",
     "text": [
      "Model and vectorizer saved.\n"
     ]
    }
   ],
   "source": [
    "# Split the data into training and validation sets\n",
    "X_train, X_val, y_train, y_val = train_test_split(X, y, test_size=0.2, random_state=42)\n",
    "\n",
    "# Initialize the TF-IDF vectorizer and fit it to the training data\n",
    "tfidf_vectorizer = TfidfVectorizer(stop_words='english', max_df=0.7)\n",
    "tfidf_train = tfidf_vectorizer.fit_transform(X_train)\n",
    "\n",
    "# Initialize and train the Logistic Regression model\n",
    "log_reg = LogisticRegression()\n",
    "log_reg.fit(tfidf_train, y_train)\n",
    "\n",
    "# Save the trained model and vectorizer\n",
    "joblib.dump(log_reg, '../data/models/logistic_regression_model.joblib')\n",
    "joblib.dump(tfidf_vectorizer, '..data/models/tfidf_vectorizer.joblib')\n",
    "\n",
    "print(\"Model and vectorizer saved.\")\n"
   ]
  },
  {
   "cell_type": "markdown",
   "metadata": {
    "id": "m7-wAzr5hcMY"
   },
   "source": [
    "## Evaluate the Model\n",
    "\n",
    "Next, we will evaluate the model on the validation set.\n"
   ]
  },
  {
   "cell_type": "code",
   "execution_count": 19,
   "metadata": {
    "colab": {
     "base_uri": "https://localhost:8080/"
    },
    "id": "W25kDWqPhfaI",
    "outputId": "4eec7cd4-b3c4-4b07-8ff1-1c7b8daf9278"
   },
   "outputs": [
    {
     "name": "stdout",
     "output_type": "stream",
     "text": [
      "Accuracy: 98.76%\n",
      "Confusion Matrix:\n",
      "      Fake  Real\n",
      "Fake  4410    55\n",
      "Real    53  4177\n",
      "Classification Report:\n",
      "              precision    recall  f1-score   support\n",
      "\n",
      "        Fake       0.99      0.99      0.99      4465\n",
      "        Real       0.99      0.99      0.99      4230\n",
      "\n",
      "    accuracy                           0.99      8695\n",
      "   macro avg       0.99      0.99      0.99      8695\n",
      "weighted avg       0.99      0.99      0.99      8695\n",
      "\n"
     ]
    }
   ],
   "source": [
    "# Transform the validation data using the vectorizer\n",
    "tfidf_val = tfidf_vectorizer.transform(X_val)\n",
    "\n",
    "# Make predictions\n",
    "y_pred = log_reg.predict(tfidf_val)\n",
    "\n",
    "# Calculate evaluation metrics\n",
    "accuracy = accuracy_score(y_val, y_pred)\n",
    "conf_matrix = confusion_matrix(y_val, y_pred)\n",
    "class_report = classification_report(y_val, y_pred, target_names=['Fake', 'Real'])\n",
    "\n",
    "# Output the evaluation metrics\n",
    "print(f'Accuracy: {accuracy * 100:.2f}%')\n",
    "labels = ['Fake', 'Real']\n",
    "conf_matrix_df = pd.DataFrame(conf_matrix, index=labels, columns=labels)\n",
    "print(f'Confusion Matrix:\\n{conf_matrix_df}')\n",
    "print(f'Classification Report:\\n{class_report}')\n"
   ]
  },
  {
   "cell_type": "markdown",
   "metadata": {
    "id": "xMi0ZYYWhkSQ"
   },
   "source": [
    "## Visualize the Confusion Matrix\n",
    "\n",
    "To better understand the model's performance, we will visualize the confusion matrix.\n"
   ]
  },
  {
   "cell_type": "code",
   "execution_count": null,
   "metadata": {
    "colab": {
     "base_uri": "https://localhost:8080/",
     "height": 472
    },
    "id": "QjaS5ejnhpKA",
    "outputId": "b7955dea-d0a6-4e1e-d5d9-5eb37c82058f"
   },
   "outputs": [
    {
     "data": {
      "image/png": "[encoded data removed]",
      "text/plain": [
       "<Figure size 640x480 with 2 Axes>"
      ]
     },
     "metadata": {},
     "output_type": "display_data"
    }
   ],
   "source": [
    "# Visualize the confusion matrix\n",
    "sns.heatmap(conf_matrix, annot=True, fmt='d', cmap='Blues', xticklabels=['Fake', 'Real'], yticklabels=['Fake', 'Real'])\n",
    "plt.ylabel('Actual')\n",
    "plt.xlabel('Predicted')\n",
    "plt.title('Confusion Matrix')\n",
    "plt.show()\n"
   ]
  }
 ],
 "metadata": {
  "colab": {
   "provenance": []
  },
  "kernelspec": {
   "display_name": "Python 3",
   "name": "python3"
  },
  "language_info": {
   "codemirror_mode": {
    "name": "ipython",
    "version": 3
   },
   "file_extension": ".py",
   "mimetype": "text/x-python",
   "name": "python",
   "nbconvert_exporter": "python",
   "pygments_lexer": "ipython3",
   "version": "3.12.6"
  }
 },
 "nbformat": 4,
 "nbformat_minor": 0
}
